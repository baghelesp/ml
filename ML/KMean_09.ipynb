{
  "nbformat": 4,
  "nbformat_minor": 0,
  "metadata": {
    "colab": {
      "provenance": []
    },
    "kernelspec": {
      "name": "python3",
      "display_name": "Python 3"
    },
    "language_info": {
      "name": "python"
    }
  },
  "cells": [
    {
      "cell_type": "markdown",
      "source": [
        "#### Name : Shivam Baghele\n",
        "#### Roll no : A3-63\n",
        "#### ML Practical No. 09\n"
      ],
      "metadata": {
        "id": "af-z7H3k7rXB"
      }
    },
    {
      "cell_type": "code",
      "source": [
        "import math\n",
        "x = [1.0,1.5,3.0,5.0,3.5,4.5,3.5]\n",
        "y = [1.0,2.0,4.0,7.0,5.0,5.0,4.5]\n",
        "\n"
      ],
      "metadata": {
        "id": "jroW9WEc7rBo"
      },
      "execution_count": 1,
      "outputs": []
    },
    {
      "cell_type": "code",
      "source": [
        "def ecludian_dist(x1,y1,x2,y2):\n",
        "  dist=math.sqrt((x2-x1)*(x2-x1)+(y2-y1)*(y2-y1))\n",
        "  return dist\n"
      ],
      "metadata": {
        "id": "RsfyVPP693Ym"
      },
      "execution_count": 2,
      "outputs": []
    },
    {
      "cell_type": "code",
      "execution_count": 3,
      "metadata": {
        "id": "sch-2BVl7WZc"
      },
      "outputs": [],
      "source": [
        "def k_mean(k,x,y):\n",
        "  initial_centroid=[]\n",
        "  for i in range(k):\n",
        "    initial_centroid.append([x[i],y[i]])\n",
        "  # print('initial centroid ', initial_centroid)\n",
        "  while(1):\n",
        "    cluster_list=[]\n",
        "    for j in range(len(x)):\n",
        "      cluster=0;\n",
        "      min=ecludian_dist(initial_centroid[0][0],initial_centroid[0][1],x[j],y[j]);\n",
        "      for i in range(k):\n",
        "        if(ecludian_dist(initial_centroid[i][0],initial_centroid[i][1],x[j],y[j])<min):\n",
        "          min=ecludian_dist(initial_centroid[i][0],initial_centroid[i][1],x[j],y[j])\n",
        "          cluster=i;\n",
        "      cluster_list.append(cluster)\n",
        "    # print('cluster list : ',cluster_list)\n",
        "    new_centroid=[]\n",
        "    for i in range(k):\n",
        "      new_meanx=0;\n",
        "      new_meany=0;\n",
        "      n=0;\n",
        "      for j in range(len(cluster_list)):\n",
        "        if i==cluster_list[j]:\n",
        "          new_meanx=new_meanx+x[j]\n",
        "          new_meany=new_meany+y[j]\n",
        "          n=n+1;\n",
        "      new_centroid.append([new_meanx/n,new_meany/n])\n",
        "    if(new_centroid==initial_centroid):\n",
        "      return cluster_list\n",
        "      break\n",
        "    else:\n",
        "      initial_centroid=new_centroid\n",
        "\n",
        "\n",
        "\n",
        "\n",
        "\n",
        "\n"
      ]
    },
    {
      "cell_type": "code",
      "source": [
        "from prettytable import PrettyTable\n",
        "k=int(input('enter a k value : '))\n",
        "list1 =k_mean(k,x,y)\n",
        "\n",
        "# Create a new table\n",
        "table = PrettyTable()\n",
        "\n",
        "# Define the columns of the table\n",
        "table.field_names = [\"X\", \"Y\", \"Cluster\"]\n",
        "\n",
        "# Add rows to the table\n",
        "for i in range(len(x)):\n",
        "  table.add_row([x[i],y[i],\"cluster \"+ str(list1[i])])\n",
        "\n",
        "\n",
        "\n",
        "# Print the table\n",
        "print(table)\n",
        "\n",
        "\n",
        "\n",
        "\n",
        "\n",
        "\n",
        "\n"
      ],
      "metadata": {
        "colab": {
          "base_uri": "https://localhost:8080/"
        },
        "id": "sgjrIL3MDc5U",
        "outputId": "6f36572b-1000-4d4d-e61e-56fbaede29fa"
      },
      "execution_count": 7,
      "outputs": [
        {
          "output_type": "stream",
          "name": "stdout",
          "text": [
            "enter a k value : 2\n",
            "+-----+-----+-----------+\n",
            "|  X  |  Y  |  Cluster  |\n",
            "+-----+-----+-----------+\n",
            "| 1.0 | 1.0 | cluster 0 |\n",
            "| 1.5 | 2.0 | cluster 0 |\n",
            "| 3.0 | 4.0 | cluster 1 |\n",
            "| 5.0 | 7.0 | cluster 1 |\n",
            "| 3.5 | 5.0 | cluster 1 |\n",
            "| 4.5 | 5.0 | cluster 1 |\n",
            "| 3.5 | 4.5 | cluster 1 |\n",
            "+-----+-----+-----------+\n"
          ]
        }
      ]
    },
    {
      "cell_type": "code",
      "source": [
        "import matplotlib.pyplot as plt\n",
        "color=['red','blue','green','cyan','purple','orange','yellow','black','brown']\n",
        "for i in range(k):\n",
        "  x1=[]\n",
        "  y1=[]\n",
        "  for j in range(len(list1)):\n",
        "    if(list1[j]==i):\n",
        "      x1.append(x[j])\n",
        "      y1.append(y[j])\n",
        "  plt.scatter(x1,y1, marker=\"x\",color=color[i])\n",
        "\n",
        "plt.show()"
      ],
      "metadata": {
        "colab": {
          "base_uri": "https://localhost:8080/",
          "height": 430
        },
        "id": "MLst4AEPGd8a",
        "outputId": "71eba9e9-38d8-4310-8f98-f85aaa4a7e73"
      },
      "execution_count": 8,
      "outputs": [
        {
          "output_type": "display_data",
          "data": {
            "text/plain": [
              "<Figure size 640x480 with 1 Axes>"
            ],
            "image/png": "[encoded data removed]"
          },
          "metadata": {}
        }
      ]
    }
  ]
}