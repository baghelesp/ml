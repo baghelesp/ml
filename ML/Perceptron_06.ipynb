{
  "nbformat": 4,
  "nbformat_minor": 0,
  "metadata": {
    "colab": {
      "provenance": []
    },
    "kernelspec": {
      "name": "python3",
      "display_name": "Python 3"
    },
    "language_info": {
      "name": "python"
    }
  },
  "cells": [
    {
      "cell_type": "markdown",
      "source": [
        "#### Name : Shivam Parmanand Baghele\n",
        "#### Roll no : A-63\n",
        "#### Practical 06\n"
      ],
      "metadata": {
        "id": "RbwlWmU4lIRM"
      }
    },
    {
      "cell_type": "code",
      "source": [
        "import numpy as np"
      ],
      "metadata": {
        "id": "2Cr9nxc6mptX"
      },
      "execution_count": 1,
      "outputs": []
    },
    {
      "cell_type": "code",
      "execution_count": 2,
      "metadata": {
        "colab": {
          "base_uri": "https://localhost:8080/"
        },
        "id": "Wt1DbLayl90d",
        "outputId": "552d4598-4e25-497f-9da7-2660cb333ddc"
      },
      "outputs": [
        {
          "output_type": "stream",
          "name": "stdout",
          "text": [
            "AND(0,1)=0\n",
            "AND(1,1)=1\n",
            "AND(0,0)=0\n",
            "AND(1,0)=0\n"
          ]
        }
      ],
      "source": [
        "#Activation function/ threshold\n",
        "def unitStep(v):\n",
        "  if v >= 0:\n",
        "    return 1\n",
        "  else:\n",
        "    return 0\n",
        "\n",
        "#=Perceptron model buiding\n",
        "def perceptronModel(x,w,b):\n",
        "  v = np.dot(w,x) + b\n",
        "  y = unitStep(v)\n",
        "  return y\n",
        "\n",
        "#AND Logic function\n",
        "def ANDLogic(x):\n",
        "  w = np.array([1,1])\n",
        "  b = -1.5\n",
        "  return perceptronModel(x,w,b)\n",
        "\n",
        "#testing peerceptron model\n",
        "test1 = np.array([0,1])\n",
        "test2 = np.array([1,1])\n",
        "test3 = np.array([0,0])\n",
        "test4 = np.array([1,0])\n",
        "\n",
        "print(\"AND({},{})={}\".format(0,1,ANDLogic(test1)))\n",
        "print(\"AND({},{})={}\".format(1,1,ANDLogic(test2)))\n",
        "print(\"AND({},{})={}\".format(0,0,ANDLogic(test3)))\n",
        "print(\"AND({},{})={}\".format(1,0,ANDLogic(test4)))\n",
        "\n"
      ]
    },
    {
      "cell_type": "code",
      "source": [
        "def perceptron(x, w, b):\n",
        "   y = np.dot(w, x) + b\n",
        "   if y >= 0:\n",
        "      return 1\n",
        "   else:\n",
        "      return 0\n",
        "\n",
        "def OR(x):\n",
        "    w = np.random.uniform(low=1, high=10, size=(2,))\n",
        "    b = -0.5\n",
        "    return perceptron(x, w, b)\n",
        "\n",
        "\n",
        "test1 = np.array([0, 1])\n",
        "test2 = np.array([1, 1])\n",
        "test3 = np.array([0, 0])\n",
        "test4 = np.array([1, 0])\n",
        "\n",
        "\n",
        "print(\"OR({}, {}) = {}\".format(0, 1, OR(test1)))\n",
        "print(\"OR({}, {}) = {}\".format(1, 1, OR(test2)))\n",
        "print(\"OR({}, {}) = {}\".format(0, 0, OR(test3)))\n",
        "print(\"OR({}, {}) = {}\".format(1, 0, OR(test4)))"
      ],
      "metadata": {
        "colab": {
          "base_uri": "https://localhost:8080/"
        },
        "id": "r5v3NtlOqGWi",
        "outputId": "fabd5819-b08f-46d9-c940-425773754a6b"
      },
      "execution_count": 3,
      "outputs": [
        {
          "output_type": "stream",
          "name": "stdout",
          "text": [
            "OR(0, 1) = 1\n",
            "OR(1, 1) = 1\n",
            "OR(0, 0) = 0\n",
            "OR(1, 0) = 1\n"
          ]
        }
      ]
    },
    {
      "cell_type": "code",
      "source": [
        "def perceptron(x, w, b):\n",
        "   y = np.dot(w, x) + b\n",
        "   if y >= 0:\n",
        "     return 1\n",
        "   else:\n",
        "     return 0\n",
        "\n",
        "\n",
        "def NAND(x):\n",
        "   w = np.random.uniform(low=-10, high=10, size=(2,))\n",
        "   sum_weights = np.sum(w)\n",
        "   threshold = sum_weights + 0.5\n",
        "   b = -threshold\n",
        "   return perceptron(x, w, b)\n",
        "\n",
        "\n",
        "test1 = np.array([0, 1])\n",
        "test2 = np.array([1, 1])\n",
        "test3 = np.array([0, 0])\n",
        "test4 = np.array([1, 0])\n",
        "\n",
        "print(\"NAND({}, {}) = {}\".format(0, 1, NAND(test1)))\n",
        "print(\"NAND({}, {}) = {}\".format(1, 1, NAND(test2)))\n",
        "print(\"NAND({}, {}) = {}\".format(0, 0, NAND(test3)))\n",
        "print(\"NAND({}, {}) = {}\".format(1, 0, NAND(test4)))\n"
      ],
      "metadata": {
        "colab": {
          "base_uri": "https://localhost:8080/"
        },
        "id": "70Rc2Y9iqgaQ",
        "outputId": "f49a0b3d-0120-4d9f-96c4-ce075cf68d79"
      },
      "execution_count": 4,
      "outputs": [
        {
          "output_type": "stream",
          "name": "stdout",
          "text": [
            "NAND(0, 1) = 0\n",
            "NAND(1, 1) = 0\n",
            "NAND(0, 0) = 0\n",
            "NAND(1, 0) = 1\n"
          ]
        }
      ]
    },
    {
      "cell_type": "code",
      "source": [
        "def perceptron(x, w, b):\n",
        "   y = np.dot(w, x) + b\n",
        "   if y >= 0:\n",
        "      return 1\n",
        "   else:\n",
        "      return 0\n",
        "\n",
        "\n",
        "def NOR(x):\n",
        "    w = np.random.uniform(low=-10, high=10, size=(2,))\n",
        "    sum_weights = np.sum(w)\n",
        "    threshold = -0.5\n",
        "    b = -(threshold + sum_weights)\n",
        "    return perceptron(x, w, b)\n",
        "\n",
        "\n",
        "test1 = np.array([0, 1])\n",
        "test2 = np.array([1, 1])\n",
        "test3 = np.array([0, 0])\n",
        "test4 = np.array([1, 0])\n",
        "\n",
        "print(\"NOR({}, {}) = {}\".format(0, 1, NOR(test1)))\n",
        "print(\"NOR({}, {}) = {}\".format(1, 1, NOR(test2)))\n",
        "print(\"NOR({}, {}) = {}\".format(0, 0, NOR(test3)))\n",
        "print(\"NOR({}, {}) = {}\".format(1, 0, NOR(test4)))"
      ],
      "metadata": {
        "colab": {
          "base_uri": "https://localhost:8080/"
        },
        "id": "Vn9SZtC7rJZc",
        "outputId": "2c7f06b5-b03a-4b32-ec56-ed0f438c9626"
      },
      "execution_count": 5,
      "outputs": [
        {
          "output_type": "stream",
          "name": "stdout",
          "text": [
            "NOR(0, 1) = 1\n",
            "NOR(1, 1) = 1\n",
            "NOR(0, 0) = 0\n",
            "NOR(1, 0) = 0\n"
          ]
        }
      ]
    },
    {
      "cell_type": "code",
      "source": [
        "def NOTLogic(x):\n",
        "   wNOT = -1\n",
        "   bNOT = 0.5\n",
        "   return perceptron(x, wNOT, bNOT)\n",
        "test5 = np.array(1)\n",
        "test6 = np.array(0)\n",
        "print(\"NOT({}) = {}\".format(1, NOTLogic(test5)))\n",
        "print(\"NOT({}) = {}\".format(0, NOTLogic(test6)))\n"
      ],
      "metadata": {
        "colab": {
          "base_uri": "https://localhost:8080/"
        },
        "id": "xeRzxxXYry7Y",
        "outputId": "8535a590-8b4e-457b-baab-fa713f59e60b"
      },
      "execution_count": 6,
      "outputs": [
        {
          "output_type": "stream",
          "name": "stdout",
          "text": [
            "NOT(1) = 0\n",
            "NOT(0) = 1\n"
          ]
        }
      ]
    },
    {
      "cell_type": "code",
      "source": [],
      "metadata": {
        "id": "wx4piHvTuXUQ"
      },
      "execution_count": 6,
      "outputs": []
    }
  ]
}